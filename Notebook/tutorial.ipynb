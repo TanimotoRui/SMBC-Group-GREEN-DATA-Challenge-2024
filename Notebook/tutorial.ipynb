{
  "cells": [
    {
      "cell_type": "markdown",
      "metadata": {
        "id": "CyZ0qzgEZjYB"
      },
      "source": [
        "<h1>SMBCグループ GREEN×DATA チャレンジ2024</h1>\n",
        "<p>\n",
        "SMBCグループ GREEN×DATA チャレンジ2024にご参加いただき、ありがとうございます。<br>\n",
        "このチュートリアルでは、予測アルゴリズムを作成し、投稿ファイルを作る方法を<a href=\"https://colab.research.google.com/\">Google Colaboratory（以下、Colab）</a>で説明します。<br>\n",
        "Colabは、ブラウザでPythonプログラミングができる無料サービスで、利用にはGoogleアカウントが必要です。<br>\n",
        "Colabでは、準備された分析環境をそのまま使えるので、初心者でも環境構築をスキップできます。\n",
        "</p>\n",
        "<p>\n",
        "チュートリアルの後は、このコードを基に精度を上げてみてください。<br>\n",
        "また、このチュートリアルで使うNotebookは「データ」ページからダウンロードできます。<br>\n",
        "皆様のたくさんの投稿をお待ちしております！\n",
        "</p>"
      ]
    },
    {
      "cell_type": "markdown",
      "metadata": {
        "id": "kJb2HTT2ZjYC"
      },
      "source": [
        "<h2>目次</h2>\n",
        "\n",
        "1. イントロダクション\n",
        "2. 前処理\n",
        "3. 予測モデルの学習・検証\n",
        "4. 予測結果の投稿\n",
        "5. 精度改善のヒント"
      ]
    },
    {
      "cell_type": "markdown",
      "metadata": {
        "id": "SDEAgZJhQHg5"
      },
      "source": [
        "# 1.イントロダクション"
      ]
    },
    {
      "cell_type": "markdown",
      "metadata": {
        "id": "AF_KJckSZjYD"
      },
      "source": [
        "## 1-1.Colabの使用方法\n",
        "<p>以下では、Colabの起動からGoogle Drive内のデータ読み込むための準備の手順を説明します。</p>\n",
        "\n",
        "<h3>Colabの起動</h3>\n",
        "\n",
        "1. Googleアカウントにログイン\n",
        "2. ブラウザで <a href=\"https://colab.research.google.com/\">Colab</a> にアクセス\n",
        "3. 「新しいノートブック」をクリックして、新しいColab環境を立ち上げる\n",
        "\n",
        "<h3>Google Driveのディレクトリ構成</h3>\n",
        "<p>\n",
        "今回はマイドライブの中に、以下のような構造でデータを置くことを前提とします。\n",
        "</p>\n",
        "\n",
        "```sh\n",
        "マイドライブ/\n",
        "├── data/\n",
        "│   ├── train.csv\n",
        "│   ├── test.csv\n",
        "│   ├── sample_submission.csv\n",
        "│   └── tutorial.ipynb\n",
        "```\n",
        "\n",
        "<h3>Google Driveへの接続方法</h3>\n",
        "\n",
        "1. Colabノートブックを開いた状態で、以下のコードを実行して自分のGoogle Driveへ接続"
      ]
    },
    {
      "cell_type": "code",
      "execution_count": 3,
      "metadata": {
        "colab": {
          "base_uri": "https://localhost:8080/"
        },
        "id": "mPd_lS9VZjYD",
        "outputId": "ce6ca08a-1b1c-428e-fcea-a07cd0df86d2"
      },
      "outputs": [
        {
          "name": "stdout",
          "output_type": "stream",
          "text": [
            "Mounted at /content/drive\n"
          ]
        }
      ],
      "source": [
        "#from google.colab import drive\n",
        "#drive.mount('/content/drive')"
      ]
    },
    {
      "cell_type": "markdown",
      "metadata": {
        "id": "YSbHtr3fZjYE"
      },
      "source": [
        "2. 「Google Driveに接続」をクリックし、Googleアカウントを選択\n",
        "3. 接続が成功すると、「Mounted at /content/drive」というメッセージが表示される\n",
        "<p>\n",
        "これで、自分のGoogle Drive に接続できました!<br>\n",
        "以下のコードでマイドライブの中にあるフォルダを確認することもできます。\n",
        "</p>"
      ]
    },
    {
      "cell_type": "code",
      "execution_count": null,
      "metadata": {
        "collapsed": true,
        "id": "gz6MQ2G8ZjYE"
      },
      "outputs": [],
      "source": [
        "#ls /content/drive/MyDrive/"
      ]
    },
    {
      "cell_type": "markdown",
      "metadata": {
        "id": "LuWz2N6HZjYE"
      },
      "source": [
        "## 1-2.ライブラリの読み込み\n",
        "\n",
        "ライブラリを読み込むことで、pythonがある特定の分野に特化した処理を行うことができるようになります。<br>\n",
        "データ分析を行うための基本的なライブラリを読み込みましょう。<br>\n",
        "今使用するライブラリの全てを読み込まなくても、必要に応じて都度ライブラリを読み込みながら進めることもできます。"
      ]
    },
    {
      "cell_type": "code",
      "execution_count": 2,
      "metadata": {
        "colab": {
          "base_uri": "https://localhost:8080/"
        },
        "id": "pVfe4CgKZjYE",
        "outputId": "861005ab-c5eb-46f5-dc9d-40b584af2b60"
      },
      "outputs": [],
      "source": [
        "# 基本的なライブラリは、Colabではデフォルトで利用可能\n",
        "\n",
        "import pandas as pd               # データを表のように扱うライブラリ\n",
        "import numpy as np                # 数値計算を速くするライブラリ\n",
        "import seaborn as sns             # きれいなグラフを簡単に作るライブラリ\n",
        "import matplotlib.pyplot as plt   # グラフを作る基本的なライブラリ\n",
        "%matplotlib inline\n",
        "\n",
        "from sklearn.model_selection import train_test_split  # データを訓練用と検証用に分ける\n",
        "from sklearn.metrics import mean_squared_log_error # 評価の計算を行うライブラリ\n",
        "import lightgbm as lgb # 予測モデルに関するライブラリ\n",
        "\n",
        "import warnings\n",
        "warnings.simplefilter('ignore')  # 不要な警告を表示しない\n",
        "\n",
        "from pathlib import Path"
      ]
    },
    {
      "cell_type": "markdown",
      "metadata": {
        "id": "aorOpO28ZjYE"
      },
      "source": [
        "<h2> 1-3.データの読み込み</h2>\n",
        "\n",
        "<p>それではデータを読み込んでみましょう。<br>\n",
        "データを読み込むには pd.read_csv() を使います。<br>\n",
        "マイドライブは/content/drive/の中にあるので、trainデータまでのパスは以下のようになります。</p>"
      ]
    },
    {
      "cell_type": "code",
      "execution_count": 4,
      "metadata": {},
      "outputs": [],
      "source": [
        "data_dir = Path(\"../Input\")\n",
        "train_file = \"train.csv\"\n",
        "test_file = \"test.csv\"\n",
        "sub_file = \"sample_submission.csv\""
      ]
    },
    {
      "cell_type": "code",
      "execution_count": 5,
      "metadata": {
        "id": "z0ilWWYKZjYF"
      },
      "outputs": [],
      "source": [
        "# 予測モデルを訓練するためのデータセット\n",
        "train = pd.read_csv(data_dir / train_file, index_col=0)\n",
        "\n",
        "# 予測モデルに推論（予測)させるデータセット\n",
        "test = pd.read_csv(data_dir / test_file, index_col=0)"
      ]
    },
    {
      "cell_type": "markdown",
      "metadata": {
        "id": "1fx0JITIQHg7"
      },
      "source": [
        "これでデータを読み込むことができました！次章ではどのようなデータがそれぞれに格納されているのかを確認します。"
      ]
    },
    {
      "cell_type": "markdown",
      "metadata": {
        "id": "2KEuxJnVQHg8"
      },
      "source": [
        "# 2.前処理  \n"
      ]
    },
    {
      "cell_type": "markdown",
      "metadata": {
        "id": "ow_v8XmBGfrK"
      },
      "source": [
        "AIモデルが正確に予測できるということは、入力データの特徴量と予測したい結果（目的変数）の関係をよく理解している状態です。しかし、AIモデルがどんなに優秀でも、すべての入力データで自動的にその関係を見つけられるわけではありません。<br>つまり、AIモデルがその関係を理解しやすくするためには、モデルを訓練する前に入力データを**適切に加工（前処理）**する必要があります。\n",
        "<br>\n",
        "適切な加工を実施するために、以下の2ステップを説明いたします。\n",
        "1. データのことを調べて、どのような処理が必要か考えてみる\n",
        "2. 考えた処理を実際に実装してみる\n",
        "\n",
        "これらのステップで「入力データから目的変数の情報をどれだけ効果的に引き出せるか」は予測性能の高いAIモデルを作るために最も重要な処理の一つです。"
      ]
    },
    {
      "cell_type": "markdown",
      "metadata": {
        "id": "0ewsLS_bQHg8"
      },
      "source": [
        "そこで、まず始めに訓練用データの中身を確かめてみましょう。"
      ]
    },
    {
      "cell_type": "code",
      "execution_count": 6,
      "metadata": {
        "colab": {
          "base_uri": "https://localhost:8080/",
          "height": 1000
        },
        "id": "R7og2gBEQHg8",
        "outputId": "11b9c61c-d9cb-4188-fda3-8f78c365ea1f"
      },
      "outputs": [
        {
          "name": "stdout",
          "output_type": "stream",
          "text": [
            "\n",
            "train のデータ概要:\n",
            "\n",
            "<class 'pandas.core.frame.DataFrame'>\n",
            "Int64Index: 4655 entries, 0 to 4654\n",
            "Data columns (total 21 columns):\n",
            " #   Column                                  Non-Null Count  Dtype  \n",
            "---  ------                                  --------------  -----  \n",
            " 0   FacilityName                            4655 non-null   object \n",
            " 1   Latitude                                4553 non-null   float64\n",
            " 2   Longitude                               4553 non-null   float64\n",
            " 3   LocationAddress                         4476 non-null   object \n",
            " 4   City                                    4655 non-null   object \n",
            " 5   State                                   4655 non-null   object \n",
            " 6   ZIP                                     4655 non-null   object \n",
            " 7   County                                  4585 non-null   object \n",
            " 8   FIPScode                                4582 non-null   float64\n",
            " 9   PrimaryNAICS                            4655 non-null   int64  \n",
            " 10  SecondPrimaryNAICS                      379 non-null    float64\n",
            " 11  IndustryType                            4654 non-null   object \n",
            " 12  TRI_Air_Emissions_10_in_lbs             1635 non-null   float64\n",
            " 13  TRI_Air_Emissions_11_in_lbs             1635 non-null   float64\n",
            " 14  TRI_Air_Emissions_12_in_lbs             1635 non-null   float64\n",
            " 15  TRI_Air_Emissions_13_in_lbs             1635 non-null   float64\n",
            " 16  GHG_Direct_Emissions_10_in_metric_tons  3953 non-null   float64\n",
            " 17  GHG_Direct_Emissions_11_in_metric_tons  4284 non-null   float64\n",
            " 18  GHG_Direct_Emissions_12_in_metric_tons  4395 non-null   float64\n",
            " 19  GHG_Direct_Emissions_13_in_metric_tons  4507 non-null   float64\n",
            " 20  GHG_Direct_Emissions_14_in_metric_tons  4655 non-null   float64\n",
            "dtypes: float64(13), int64(1), object(7)\n",
            "memory usage: 800.1+ KB\n"
          ]
        },
        {
          "data": {
            "text/plain": [
              "None"
            ]
          },
          "metadata": {},
          "output_type": "display_data"
        },
        {
          "data": {
            "text/html": [
              "<div>\n",
              "<style scoped>\n",
              "    .dataframe tbody tr th:only-of-type {\n",
              "        vertical-align: middle;\n",
              "    }\n",
              "\n",
              "    .dataframe tbody tr th {\n",
              "        vertical-align: top;\n",
              "    }\n",
              "\n",
              "    .dataframe thead th {\n",
              "        text-align: right;\n",
              "    }\n",
              "</style>\n",
              "<table border=\"1\" class=\"dataframe\">\n",
              "  <thead>\n",
              "    <tr style=\"text-align: right;\">\n",
              "      <th></th>\n",
              "      <th>Latitude</th>\n",
              "      <th>Longitude</th>\n",
              "      <th>FIPScode</th>\n",
              "      <th>PrimaryNAICS</th>\n",
              "      <th>SecondPrimaryNAICS</th>\n",
              "      <th>TRI_Air_Emissions_10_in_lbs</th>\n",
              "      <th>TRI_Air_Emissions_11_in_lbs</th>\n",
              "      <th>TRI_Air_Emissions_12_in_lbs</th>\n",
              "      <th>TRI_Air_Emissions_13_in_lbs</th>\n",
              "      <th>GHG_Direct_Emissions_10_in_metric_tons</th>\n",
              "      <th>GHG_Direct_Emissions_11_in_metric_tons</th>\n",
              "      <th>GHG_Direct_Emissions_12_in_metric_tons</th>\n",
              "      <th>GHG_Direct_Emissions_13_in_metric_tons</th>\n",
              "      <th>GHG_Direct_Emissions_14_in_metric_tons</th>\n",
              "    </tr>\n",
              "  </thead>\n",
              "  <tbody>\n",
              "    <tr>\n",
              "      <th>count</th>\n",
              "      <td>4553.000000</td>\n",
              "      <td>4553.000000</td>\n",
              "      <td>4582.000000</td>\n",
              "      <td>4655.000000</td>\n",
              "      <td>379.000000</td>\n",
              "      <td>1.635000e+03</td>\n",
              "      <td>1635.000000</td>\n",
              "      <td>1635.000000</td>\n",
              "      <td>1635.000000</td>\n",
              "      <td>3.953000e+03</td>\n",
              "      <td>4.284000e+03</td>\n",
              "      <td>4.395000e+03</td>\n",
              "      <td>4.507000e+03</td>\n",
              "      <td>4.655000e+03</td>\n",
              "    </tr>\n",
              "    <tr>\n",
              "      <th>mean</th>\n",
              "      <td>37.502474</td>\n",
              "      <td>-93.132567</td>\n",
              "      <td>29594.314055</td>\n",
              "      <td>354701.002578</td>\n",
              "      <td>320797.759894</td>\n",
              "      <td>6.179064e+04</td>\n",
              "      <td>43853.462331</td>\n",
              "      <td>53770.293062</td>\n",
              "      <td>56007.086034</td>\n",
              "      <td>2.485158e+05</td>\n",
              "      <td>1.612068e+05</td>\n",
              "      <td>3.159905e+05</td>\n",
              "      <td>1.834006e+05</td>\n",
              "      <td>2.525133e+05</td>\n",
              "    </tr>\n",
              "    <tr>\n",
              "      <th>std</th>\n",
              "      <td>5.739955</td>\n",
              "      <td>15.680084</td>\n",
              "      <td>16565.382504</td>\n",
              "      <td>145549.947021</td>\n",
              "      <td>36638.391132</td>\n",
              "      <td>1.344983e+05</td>\n",
              "      <td>55988.952050</td>\n",
              "      <td>93977.128341</td>\n",
              "      <td>109863.242856</td>\n",
              "      <td>5.225110e+05</td>\n",
              "      <td>2.641831e+05</td>\n",
              "      <td>7.395843e+05</td>\n",
              "      <td>4.026237e+05</td>\n",
              "      <td>4.854669e+05</td>\n",
              "    </tr>\n",
              "    <tr>\n",
              "      <th>min</th>\n",
              "      <td>13.394900</td>\n",
              "      <td>-166.553496</td>\n",
              "      <td>1001.000000</td>\n",
              "      <td>111419.000000</td>\n",
              "      <td>212113.000000</td>\n",
              "      <td>2.279515e+03</td>\n",
              "      <td>34.450512</td>\n",
              "      <td>2076.649083</td>\n",
              "      <td>4656.522747</td>\n",
              "      <td>1.089413e+02</td>\n",
              "      <td>8.167190e-01</td>\n",
              "      <td>2.009966e+02</td>\n",
              "      <td>2.689283e+01</td>\n",
              "      <td>5.598067e+02</td>\n",
              "    </tr>\n",
              "    <tr>\n",
              "      <th>25%</th>\n",
              "      <td>33.471611</td>\n",
              "      <td>-98.498664</td>\n",
              "      <td>17105.500000</td>\n",
              "      <td>221112.000000</td>\n",
              "      <td>322121.000000</td>\n",
              "      <td>2.525215e+04</td>\n",
              "      <td>25319.052605</td>\n",
              "      <td>22764.672344</td>\n",
              "      <td>22905.881327</td>\n",
              "      <td>5.123975e+04</td>\n",
              "      <td>3.733935e+04</td>\n",
              "      <td>4.822487e+04</td>\n",
              "      <td>3.547781e+04</td>\n",
              "      <td>4.174869e+04</td>\n",
              "    </tr>\n",
              "    <tr>\n",
              "      <th>50%</th>\n",
              "      <td>37.873810</td>\n",
              "      <td>-90.446667</td>\n",
              "      <td>29034.000000</td>\n",
              "      <td>325180.000000</td>\n",
              "      <td>325199.000000</td>\n",
              "      <td>3.204187e+04</td>\n",
              "      <td>31765.719617</td>\n",
              "      <td>29667.091832</td>\n",
              "      <td>29305.093678</td>\n",
              "      <td>7.440347e+04</td>\n",
              "      <td>6.119749e+04</td>\n",
              "      <td>7.242684e+04</td>\n",
              "      <td>5.744658e+04</td>\n",
              "      <td>6.789793e+04</td>\n",
              "    </tr>\n",
              "    <tr>\n",
              "      <th>75%</th>\n",
              "      <td>41.152783</td>\n",
              "      <td>-82.604399</td>\n",
              "      <td>45050.000000</td>\n",
              "      <td>486210.000000</td>\n",
              "      <td>331111.000000</td>\n",
              "      <td>4.019123e+04</td>\n",
              "      <td>38329.096290</td>\n",
              "      <td>36984.431956</td>\n",
              "      <td>36755.017845</td>\n",
              "      <td>1.676409e+05</td>\n",
              "      <td>1.418608e+05</td>\n",
              "      <td>2.279668e+05</td>\n",
              "      <td>1.195544e+05</td>\n",
              "      <td>2.109168e+05</td>\n",
              "    </tr>\n",
              "    <tr>\n",
              "      <th>max</th>\n",
              "      <td>70.490861</td>\n",
              "      <td>144.807727</td>\n",
              "      <td>78010.000000</td>\n",
              "      <td>928110.000000</td>\n",
              "      <td>562212.000000</td>\n",
              "      <td>1.251231e+06</td>\n",
              "      <td>478366.459152</td>\n",
              "      <td>743548.788013</td>\n",
              "      <td>989230.802586</td>\n",
              "      <td>3.900222e+06</td>\n",
              "      <td>2.698567e+06</td>\n",
              "      <td>6.837260e+06</td>\n",
              "      <td>4.330236e+06</td>\n",
              "      <td>4.614103e+06</td>\n",
              "    </tr>\n",
              "  </tbody>\n",
              "</table>\n",
              "</div>"
            ],
            "text/plain": [
              "          Latitude    Longitude      FIPScode   PrimaryNAICS  \\\n",
              "count  4553.000000  4553.000000   4582.000000    4655.000000   \n",
              "mean     37.502474   -93.132567  29594.314055  354701.002578   \n",
              "std       5.739955    15.680084  16565.382504  145549.947021   \n",
              "min      13.394900  -166.553496   1001.000000  111419.000000   \n",
              "25%      33.471611   -98.498664  17105.500000  221112.000000   \n",
              "50%      37.873810   -90.446667  29034.000000  325180.000000   \n",
              "75%      41.152783   -82.604399  45050.000000  486210.000000   \n",
              "max      70.490861   144.807727  78010.000000  928110.000000   \n",
              "\n",
              "       SecondPrimaryNAICS  TRI_Air_Emissions_10_in_lbs  \\\n",
              "count          379.000000                 1.635000e+03   \n",
              "mean        320797.759894                 6.179064e+04   \n",
              "std          36638.391132                 1.344983e+05   \n",
              "min         212113.000000                 2.279515e+03   \n",
              "25%         322121.000000                 2.525215e+04   \n",
              "50%         325199.000000                 3.204187e+04   \n",
              "75%         331111.000000                 4.019123e+04   \n",
              "max         562212.000000                 1.251231e+06   \n",
              "\n",
              "       TRI_Air_Emissions_11_in_lbs  TRI_Air_Emissions_12_in_lbs  \\\n",
              "count                  1635.000000                  1635.000000   \n",
              "mean                  43853.462331                 53770.293062   \n",
              "std                   55988.952050                 93977.128341   \n",
              "min                      34.450512                  2076.649083   \n",
              "25%                   25319.052605                 22764.672344   \n",
              "50%                   31765.719617                 29667.091832   \n",
              "75%                   38329.096290                 36984.431956   \n",
              "max                  478366.459152                743548.788013   \n",
              "\n",
              "       TRI_Air_Emissions_13_in_lbs  GHG_Direct_Emissions_10_in_metric_tons  \\\n",
              "count                  1635.000000                            3.953000e+03   \n",
              "mean                  56007.086034                            2.485158e+05   \n",
              "std                  109863.242856                            5.225110e+05   \n",
              "min                    4656.522747                            1.089413e+02   \n",
              "25%                   22905.881327                            5.123975e+04   \n",
              "50%                   29305.093678                            7.440347e+04   \n",
              "75%                   36755.017845                            1.676409e+05   \n",
              "max                  989230.802586                            3.900222e+06   \n",
              "\n",
              "       GHG_Direct_Emissions_11_in_metric_tons  \\\n",
              "count                            4.284000e+03   \n",
              "mean                             1.612068e+05   \n",
              "std                              2.641831e+05   \n",
              "min                              8.167190e-01   \n",
              "25%                              3.733935e+04   \n",
              "50%                              6.119749e+04   \n",
              "75%                              1.418608e+05   \n",
              "max                              2.698567e+06   \n",
              "\n",
              "       GHG_Direct_Emissions_12_in_metric_tons  \\\n",
              "count                            4.395000e+03   \n",
              "mean                             3.159905e+05   \n",
              "std                              7.395843e+05   \n",
              "min                              2.009966e+02   \n",
              "25%                              4.822487e+04   \n",
              "50%                              7.242684e+04   \n",
              "75%                              2.279668e+05   \n",
              "max                              6.837260e+06   \n",
              "\n",
              "       GHG_Direct_Emissions_13_in_metric_tons  \\\n",
              "count                            4.507000e+03   \n",
              "mean                             1.834006e+05   \n",
              "std                              4.026237e+05   \n",
              "min                              2.689283e+01   \n",
              "25%                              3.547781e+04   \n",
              "50%                              5.744658e+04   \n",
              "75%                              1.195544e+05   \n",
              "max                              4.330236e+06   \n",
              "\n",
              "       GHG_Direct_Emissions_14_in_metric_tons  \n",
              "count                            4.655000e+03  \n",
              "mean                             2.525133e+05  \n",
              "std                              4.854669e+05  \n",
              "min                              5.598067e+02  \n",
              "25%                              4.174869e+04  \n",
              "50%                              6.789793e+04  \n",
              "75%                              2.109168e+05  \n",
              "max                              4.614103e+06  "
            ]
          },
          "metadata": {},
          "output_type": "display_data"
        },
        {
          "name": "stdout",
          "output_type": "stream",
          "text": [
            "\n",
            "test のデータ概要:\n",
            "\n",
            "<class 'pandas.core.frame.DataFrame'>\n",
            "Int64Index: 2508 entries, 4655 to 7162\n",
            "Data columns (total 20 columns):\n",
            " #   Column                                  Non-Null Count  Dtype  \n",
            "---  ------                                  --------------  -----  \n",
            " 0   FacilityName                            2508 non-null   object \n",
            " 1   Latitude                                2452 non-null   float64\n",
            " 2   Longitude                               2452 non-null   float64\n",
            " 3   LocationAddress                         2395 non-null   object \n",
            " 4   City                                    2508 non-null   object \n",
            " 5   State                                   2508 non-null   object \n",
            " 6   ZIP                                     2508 non-null   object \n",
            " 7   County                                  2463 non-null   object \n",
            " 8   FIPScode                                2463 non-null   float64\n",
            " 9   PrimaryNAICS                            2508 non-null   int64  \n",
            " 10  SecondPrimaryNAICS                      184 non-null    float64\n",
            " 11  IndustryType                            2508 non-null   object \n",
            " 12  TRI_Air_Emissions_10_in_lbs             874 non-null    float64\n",
            " 13  TRI_Air_Emissions_11_in_lbs             874 non-null    float64\n",
            " 14  TRI_Air_Emissions_12_in_lbs             874 non-null    float64\n",
            " 15  TRI_Air_Emissions_13_in_lbs             874 non-null    float64\n",
            " 16  GHG_Direct_Emissions_10_in_metric_tons  2130 non-null   float64\n",
            " 17  GHG_Direct_Emissions_11_in_metric_tons  2297 non-null   float64\n",
            " 18  GHG_Direct_Emissions_12_in_metric_tons  2371 non-null   float64\n",
            " 19  GHG_Direct_Emissions_13_in_metric_tons  2435 non-null   float64\n",
            "dtypes: float64(12), int64(1), object(7)\n",
            "memory usage: 411.5+ KB\n"
          ]
        },
        {
          "data": {
            "text/plain": [
              "None"
            ]
          },
          "metadata": {},
          "output_type": "display_data"
        },
        {
          "data": {
            "text/html": [
              "<div>\n",
              "<style scoped>\n",
              "    .dataframe tbody tr th:only-of-type {\n",
              "        vertical-align: middle;\n",
              "    }\n",
              "\n",
              "    .dataframe tbody tr th {\n",
              "        vertical-align: top;\n",
              "    }\n",
              "\n",
              "    .dataframe thead th {\n",
              "        text-align: right;\n",
              "    }\n",
              "</style>\n",
              "<table border=\"1\" class=\"dataframe\">\n",
              "  <thead>\n",
              "    <tr style=\"text-align: right;\">\n",
              "      <th></th>\n",
              "      <th>Latitude</th>\n",
              "      <th>Longitude</th>\n",
              "      <th>FIPScode</th>\n",
              "      <th>PrimaryNAICS</th>\n",
              "      <th>SecondPrimaryNAICS</th>\n",
              "      <th>TRI_Air_Emissions_10_in_lbs</th>\n",
              "      <th>TRI_Air_Emissions_11_in_lbs</th>\n",
              "      <th>TRI_Air_Emissions_12_in_lbs</th>\n",
              "      <th>TRI_Air_Emissions_13_in_lbs</th>\n",
              "      <th>GHG_Direct_Emissions_10_in_metric_tons</th>\n",
              "      <th>GHG_Direct_Emissions_11_in_metric_tons</th>\n",
              "      <th>GHG_Direct_Emissions_12_in_metric_tons</th>\n",
              "      <th>GHG_Direct_Emissions_13_in_metric_tons</th>\n",
              "    </tr>\n",
              "  </thead>\n",
              "  <tbody>\n",
              "    <tr>\n",
              "      <th>count</th>\n",
              "      <td>2452.000000</td>\n",
              "      <td>2452.000000</td>\n",
              "      <td>2463.000000</td>\n",
              "      <td>2508.000000</td>\n",
              "      <td>184.000000</td>\n",
              "      <td>8.740000e+02</td>\n",
              "      <td>874.000000</td>\n",
              "      <td>874.000000</td>\n",
              "      <td>8.740000e+02</td>\n",
              "      <td>2.130000e+03</td>\n",
              "      <td>2.297000e+03</td>\n",
              "      <td>2.371000e+03</td>\n",
              "      <td>2.435000e+03</td>\n",
              "    </tr>\n",
              "    <tr>\n",
              "      <th>mean</th>\n",
              "      <td>37.570662</td>\n",
              "      <td>-92.363851</td>\n",
              "      <td>30404.922452</td>\n",
              "      <td>354306.630383</td>\n",
              "      <td>318199.500000</td>\n",
              "      <td>6.487513e+04</td>\n",
              "      <td>40970.199510</td>\n",
              "      <td>49969.490551</td>\n",
              "      <td>5.099979e+04</td>\n",
              "      <td>2.567106e+05</td>\n",
              "      <td>1.601432e+05</td>\n",
              "      <td>3.124102e+05</td>\n",
              "      <td>1.892745e+05</td>\n",
              "    </tr>\n",
              "    <tr>\n",
              "      <th>std</th>\n",
              "      <td>5.758665</td>\n",
              "      <td>15.263442</td>\n",
              "      <td>16241.454602</td>\n",
              "      <td>147092.064447</td>\n",
              "      <td>48626.377425</td>\n",
              "      <td>1.532609e+05</td>\n",
              "      <td>50742.809398</td>\n",
              "      <td>96607.925446</td>\n",
              "      <td>1.092213e+05</td>\n",
              "      <td>5.239007e+05</td>\n",
              "      <td>2.753633e+05</td>\n",
              "      <td>7.448045e+05</td>\n",
              "      <td>4.284521e+05</td>\n",
              "    </tr>\n",
              "    <tr>\n",
              "      <th>min</th>\n",
              "      <td>13.463579</td>\n",
              "      <td>-158.125764</td>\n",
              "      <td>1001.000000</td>\n",
              "      <td>211111.000000</td>\n",
              "      <td>115114.000000</td>\n",
              "      <td>4.405829e+03</td>\n",
              "      <td>5343.548842</td>\n",
              "      <td>3144.557141</td>\n",
              "      <td>1.221438e+03</td>\n",
              "      <td>1.342263e+02</td>\n",
              "      <td>5.203845e+01</td>\n",
              "      <td>3.003952e+03</td>\n",
              "      <td>2.226384e+02</td>\n",
              "    </tr>\n",
              "    <tr>\n",
              "      <th>25%</th>\n",
              "      <td>33.139870</td>\n",
              "      <td>-97.758778</td>\n",
              "      <td>17200.000000</td>\n",
              "      <td>221112.000000</td>\n",
              "      <td>322130.000000</td>\n",
              "      <td>2.465727e+04</td>\n",
              "      <td>25406.683554</td>\n",
              "      <td>23070.544500</td>\n",
              "      <td>2.206082e+04</td>\n",
              "      <td>5.025370e+04</td>\n",
              "      <td>3.543934e+04</td>\n",
              "      <td>4.570376e+04</td>\n",
              "      <td>3.507816e+04</td>\n",
              "    </tr>\n",
              "    <tr>\n",
              "      <th>50%</th>\n",
              "      <td>38.047855</td>\n",
              "      <td>-90.131700</td>\n",
              "      <td>31067.000000</td>\n",
              "      <td>325155.000000</td>\n",
              "      <td>325199.000000</td>\n",
              "      <td>3.137226e+04</td>\n",
              "      <td>30861.833946</td>\n",
              "      <td>29153.614011</td>\n",
              "      <td>2.811996e+04</td>\n",
              "      <td>7.313435e+04</td>\n",
              "      <td>5.862897e+04</td>\n",
              "      <td>6.998558e+04</td>\n",
              "      <td>5.659606e+04</td>\n",
              "    </tr>\n",
              "    <tr>\n",
              "      <th>75%</th>\n",
              "      <td>41.346859</td>\n",
              "      <td>-81.908218</td>\n",
              "      <td>47032.000000</td>\n",
              "      <td>486210.000000</td>\n",
              "      <td>331111.000000</td>\n",
              "      <td>3.898384e+04</td>\n",
              "      <td>37976.075558</td>\n",
              "      <td>35656.637976</td>\n",
              "      <td>3.498953e+04</td>\n",
              "      <td>1.850996e+05</td>\n",
              "      <td>1.138890e+05</td>\n",
              "      <td>2.150169e+05</td>\n",
              "      <td>1.113874e+05</td>\n",
              "    </tr>\n",
              "    <tr>\n",
              "      <th>max</th>\n",
              "      <td>71.292071</td>\n",
              "      <td>144.678216</td>\n",
              "      <td>78030.000000</td>\n",
              "      <td>928110.000000</td>\n",
              "      <td>562910.000000</td>\n",
              "      <td>1.374503e+06</td>\n",
              "      <td>481505.852810</td>\n",
              "      <td>898432.732339</td>\n",
              "      <td>1.010902e+06</td>\n",
              "      <td>3.927869e+06</td>\n",
              "      <td>2.120411e+06</td>\n",
              "      <td>6.112087e+06</td>\n",
              "      <td>4.292472e+06</td>\n",
              "    </tr>\n",
              "  </tbody>\n",
              "</table>\n",
              "</div>"
            ],
            "text/plain": [
              "          Latitude    Longitude      FIPScode   PrimaryNAICS  \\\n",
              "count  2452.000000  2452.000000   2463.000000    2508.000000   \n",
              "mean     37.570662   -92.363851  30404.922452  354306.630383   \n",
              "std       5.758665    15.263442  16241.454602  147092.064447   \n",
              "min      13.463579  -158.125764   1001.000000  211111.000000   \n",
              "25%      33.139870   -97.758778  17200.000000  221112.000000   \n",
              "50%      38.047855   -90.131700  31067.000000  325155.000000   \n",
              "75%      41.346859   -81.908218  47032.000000  486210.000000   \n",
              "max      71.292071   144.678216  78030.000000  928110.000000   \n",
              "\n",
              "       SecondPrimaryNAICS  TRI_Air_Emissions_10_in_lbs  \\\n",
              "count          184.000000                 8.740000e+02   \n",
              "mean        318199.500000                 6.487513e+04   \n",
              "std          48626.377425                 1.532609e+05   \n",
              "min         115114.000000                 4.405829e+03   \n",
              "25%         322130.000000                 2.465727e+04   \n",
              "50%         325199.000000                 3.137226e+04   \n",
              "75%         331111.000000                 3.898384e+04   \n",
              "max         562910.000000                 1.374503e+06   \n",
              "\n",
              "       TRI_Air_Emissions_11_in_lbs  TRI_Air_Emissions_12_in_lbs  \\\n",
              "count                   874.000000                   874.000000   \n",
              "mean                  40970.199510                 49969.490551   \n",
              "std                   50742.809398                 96607.925446   \n",
              "min                    5343.548842                  3144.557141   \n",
              "25%                   25406.683554                 23070.544500   \n",
              "50%                   30861.833946                 29153.614011   \n",
              "75%                   37976.075558                 35656.637976   \n",
              "max                  481505.852810                898432.732339   \n",
              "\n",
              "       TRI_Air_Emissions_13_in_lbs  GHG_Direct_Emissions_10_in_metric_tons  \\\n",
              "count                 8.740000e+02                            2.130000e+03   \n",
              "mean                  5.099979e+04                            2.567106e+05   \n",
              "std                   1.092213e+05                            5.239007e+05   \n",
              "min                   1.221438e+03                            1.342263e+02   \n",
              "25%                   2.206082e+04                            5.025370e+04   \n",
              "50%                   2.811996e+04                            7.313435e+04   \n",
              "75%                   3.498953e+04                            1.850996e+05   \n",
              "max                   1.010902e+06                            3.927869e+06   \n",
              "\n",
              "       GHG_Direct_Emissions_11_in_metric_tons  \\\n",
              "count                            2.297000e+03   \n",
              "mean                             1.601432e+05   \n",
              "std                              2.753633e+05   \n",
              "min                              5.203845e+01   \n",
              "25%                              3.543934e+04   \n",
              "50%                              5.862897e+04   \n",
              "75%                              1.138890e+05   \n",
              "max                              2.120411e+06   \n",
              "\n",
              "       GHG_Direct_Emissions_12_in_metric_tons  \\\n",
              "count                            2.371000e+03   \n",
              "mean                             3.124102e+05   \n",
              "std                              7.448045e+05   \n",
              "min                              3.003952e+03   \n",
              "25%                              4.570376e+04   \n",
              "50%                              6.998558e+04   \n",
              "75%                              2.150169e+05   \n",
              "max                              6.112087e+06   \n",
              "\n",
              "       GHG_Direct_Emissions_13_in_metric_tons  \n",
              "count                            2.435000e+03  \n",
              "mean                             1.892745e+05  \n",
              "std                              4.284521e+05  \n",
              "min                              2.226384e+02  \n",
              "25%                              3.507816e+04  \n",
              "50%                              5.659606e+04  \n",
              "75%                              1.113874e+05  \n",
              "max                              4.292472e+06  "
            ]
          },
          "metadata": {},
          "output_type": "display_data"
        }
      ],
      "source": [
        "def describe_data(data, name):\n",
        "    print(f\"\\n{name} のデータ概要:\\n\")\n",
        "    display(data.info())\n",
        "    display(data.describe())\n",
        "\n",
        "describe_data(train, 'train')\n",
        "\n",
        "describe_data(test, 'test')"
      ]
    },
    {
      "cell_type": "markdown",
      "metadata": {
        "id": "1ZhaC9yUQHg8"
      },
      "source": [
        "データの中身を確認しました。<br>\n",
        "今回目的変数は施設ごとの2014年のGHG排出量(GHG_Direct_Emissions_14_in_metric_tonsReviewer_Score)です。<br>\n",
        "特徴量は、施設の場所や業種といったカテゴリデータと観測値の数字データがあります。<br>\n",
        "また、Non-Null Countを見るといくつか欠損値が含まれていることもわかります。\n",
        "\n",
        "前処理の方法は以下が挙げられます。\n",
        "1. カテゴリ型（str）\n",
        "  - 場所を表すデータは場所別に特徴がないかを確認しグルーピング\n",
        "  - IndustryTypeで特徴に差があるかを確認してエンコーディング\n",
        "2. 数値型（int, float）\n",
        "  - 欠損値の処理\n",
        "  - 分布を確認して標準化など\n",
        "\n",
        "それでは実際に確認していきましょう。"
      ]
    },
    {
      "cell_type": "markdown",
      "metadata": {
        "id": "Mmt05Rz0QHg8"
      },
      "source": [
        "## 2-1.カテゴリ型（str）の処理"
      ]
    },
    {
      "cell_type": "markdown",
      "metadata": {
        "id": "tfRoirHK9qcv"
      },
      "source": [
        "#### 場所を表す特徴量"
      ]
    },
    {
      "cell_type": "markdown",
      "metadata": {
        "id": "uF2WUkoV93bU"
      },
      "source": [
        "緯度（Latitude）経度（Longitude）の情報から地図上にマッピングしてみましょう。<br>\n",
        "それだけでなく、目的変数である2014年のGHG排出量の大小で色分けもしてみます。<br>\n",
        "難しいかつ、使用頻度が高くないコードですので、覚えずに生成AIを活用してください！"
      ]
    },
    {
      "cell_type": "code",
      "execution_count": 7,
      "metadata": {
        "id": "yH5ZLPB8QHg8"
      },
      "outputs": [
        {
          "ename": "ModuleNotFoundError",
          "evalue": "No module named 'folium'",
          "output_type": "error",
          "traceback": [
            "\u001b[0;31m---------------------------------------------------------------------------\u001b[0m",
            "\u001b[0;31mModuleNotFoundError\u001b[0m                       Traceback (most recent call last)",
            "Cell \u001b[0;32mIn[7], line 1\u001b[0m\n\u001b[0;32m----> 1\u001b[0m \u001b[38;5;28;01mimport\u001b[39;00m \u001b[38;5;21;01mfolium\u001b[39;00m\n\u001b[1;32m      2\u001b[0m \u001b[38;5;28;01mimport\u001b[39;00m \u001b[38;5;21;01mmatplotlib\u001b[39;00m\u001b[38;5;21;01m.\u001b[39;00m\u001b[38;5;21;01mcm\u001b[39;00m \u001b[38;5;28;01mas\u001b[39;00m \u001b[38;5;21;01mcm\u001b[39;00m\n\u001b[1;32m      3\u001b[0m \u001b[38;5;28;01mimport\u001b[39;00m \u001b[38;5;21;01mmatplotlib\u001b[39;00m\u001b[38;5;21;01m.\u001b[39;00m\u001b[38;5;21;01mcolors\u001b[39;00m \u001b[38;5;28;01mas\u001b[39;00m \u001b[38;5;21;01mcolors\u001b[39;00m\n",
            "\u001b[0;31mModuleNotFoundError\u001b[0m: No module named 'folium'"
          ]
        }
      ],
      "source": [
        "import folium\n",
        "import matplotlib.cm as cm\n",
        "import matplotlib.colors as colors\n",
        "from IPython.display import display\n",
        "\n",
        "# 必要なデータを抽出し、新しいデータフレームを作成\n",
        "data = train[['Latitude', 'Longitude', 'GHG_Direct_Emissions_14_in_metric_tons']].copy()\n",
        "\n",
        "# 緯度、経度、排出量のいずれかが欠損している行を削除\n",
        "data.dropna(subset=['Latitude', 'Longitude', 'GHG_Direct_Emissions_14_in_metric_tons'], inplace=True)\n",
        "\n",
        "# 各列のデータ型を float に変換\n",
        "for col in ['Latitude', 'Longitude', 'GHG_Direct_Emissions_14_in_metric_tons']:\n",
        "    data[col] = data[col].astype(float)\n",
        "\n",
        "# 地図の中心をデータの緯度と経度の平均位置に設定\n",
        "map_center = [data['Latitude'].mean(), data['Longitude'].mean()]\n",
        "m = folium.Map(location=map_center, zoom_start=5)\n",
        "\n",
        "# 排出量の最大値と最小値を取得\n",
        "max_emission = data['GHG_Direct_Emissions_14_in_metric_tons'].max()\n",
        "min_emission = data['GHG_Direct_Emissions_14_in_metric_tons'].min()\n",
        "\n",
        "# カラーマップを設定（排出量が少ない地点は黄色、多い地点は赤色で表示）\n",
        "colormap = cm.get_cmap('YlOrRd')\n",
        "normalize = colors.Normalize(vmin=min_emission, vmax=max_emission)\n",
        "\n",
        "# 各地点に対して、排出量に応じた色の円マーカーを作成し地図に追加\n",
        "for idx, row in data.iterrows():\n",
        "    # 排出量に基づいて色を設定\n",
        "    color = colors.rgb2hex(colormap(normalize(row['GHG_Direct_Emissions_14_in_metric_tons'])))\n",
        "\n",
        "    # 円マーカーを作成\n",
        "    folium.CircleMarker(\n",
        "        location=[row['Latitude'], row['Longitude']],  # 緯度・経度\n",
        "        radius=5,  # 円のサイズ\n",
        "        popup=f\"Emissions: {row['GHG_Direct_Emissions_14_in_metric_tons']}\",  # ポップアップに排出量を表示\n",
        "        color=color,  # 枠の色\n",
        "        fill=True,  # 円を塗りつぶす\n",
        "        fill_color=color  # 塗りつぶしの色\n",
        "    ).add_to(m)\n",
        "\n",
        "# 地図を表示（Jupyter Notebook 上で表示可能）\n",
        "display(m)\n"
      ]
    },
    {
      "cell_type": "markdown",
      "metadata": {
        "id": "CLXQcJTR3MGi"
      },
      "source": [
        "ブラウザ上では表示できませんが、マウス操作で動かせるマップに、データ内で相対的に数値が高いところは赤くそうでないところは黄色く表示されます。<br>\n",
        "ぜひご自身のノートブックで表示して考察してみてください。"
      ]
    },
    {
      "cell_type": "markdown",
      "metadata": {
        "id": "G9Gp5rkc3k0h"
      },
      "source": [
        "#### 業種を表す特徴量"
      ]
    },
    {
      "cell_type": "markdown",
      "metadata": {
        "id": "rS29PSvC95XU"
      },
      "source": [
        "業種とGHG排出量はなんらかの関係があると仮説を立てることができます。業種を表すIndustryTypeを確認してみましょう。"
      ]
    },
    {
      "cell_type": "code",
      "execution_count": 7,
      "metadata": {
        "colab": {
          "base_uri": "https://localhost:8080/",
          "height": 1000
        },
        "id": "8Awe3uyS3wL6",
        "outputId": "a3d9af00-0328-4a57-a3ac-bb8fa7591995"
      },
      "outputs": [
        {
          "data": {
            "text/html": [
              "<div>\n",
              "<style scoped>\n",
              "    .dataframe tbody tr th:only-of-type {\n",
              "        vertical-align: middle;\n",
              "    }\n",
              "\n",
              "    .dataframe tbody tr th {\n",
              "        vertical-align: top;\n",
              "    }\n",
              "\n",
              "    .dataframe thead th {\n",
              "        text-align: right;\n",
              "    }\n",
              "</style>\n",
              "<table border=\"1\" class=\"dataframe\">\n",
              "  <thead>\n",
              "    <tr style=\"text-align: right;\">\n",
              "      <th></th>\n",
              "      <th>count</th>\n",
              "    </tr>\n",
              "    <tr>\n",
              "      <th>IndustryType</th>\n",
              "      <th></th>\n",
              "    </tr>\n",
              "  </thead>\n",
              "  <tbody>\n",
              "    <tr>\n",
              "      <th>Petroleum and Natural Gas Systems</th>\n",
              "      <td>960</td>\n",
              "    </tr>\n",
              "    <tr>\n",
              "      <th>Power Plants</th>\n",
              "      <td>943</td>\n",
              "    </tr>\n",
              "    <tr>\n",
              "      <th>Waste</th>\n",
              "      <td>859</td>\n",
              "    </tr>\n",
              "    <tr>\n",
              "      <th>Other</th>\n",
              "      <td>723</td>\n",
              "    </tr>\n",
              "    <tr>\n",
              "      <th>Minerals</th>\n",
              "      <td>246</td>\n",
              "    </tr>\n",
              "    <tr>\n",
              "      <th>Chemicals</th>\n",
              "      <td>209</td>\n",
              "    </tr>\n",
              "    <tr>\n",
              "      <th>Metals</th>\n",
              "      <td>199</td>\n",
              "    </tr>\n",
              "    <tr>\n",
              "      <th>Other,Waste</th>\n",
              "      <td>86</td>\n",
              "    </tr>\n",
              "    <tr>\n",
              "      <th>Pulp and Paper</th>\n",
              "      <td>81</td>\n",
              "    </tr>\n",
              "    <tr>\n",
              "      <th>Natural Gas and Natural Gas Liquids Suppliers,Petroleum and Natural Gas Systems</th>\n",
              "      <td>65</td>\n",
              "    </tr>\n",
              "    <tr>\n",
              "      <th>Pulp and Paper,Waste</th>\n",
              "      <td>57</td>\n",
              "    </tr>\n",
              "    <tr>\n",
              "      <th>Petroleum Product Suppliers,Refineries</th>\n",
              "      <td>37</td>\n",
              "    </tr>\n",
              "    <tr>\n",
              "      <th>Chemicals,Petroleum Product Suppliers,Refineries</th>\n",
              "      <td>28</td>\n",
              "    </tr>\n",
              "    <tr>\n",
              "      <th>Chemicals,Suppliers of CO2</th>\n",
              "      <td>24</td>\n",
              "    </tr>\n",
              "    <tr>\n",
              "      <th>Other,Suppliers of CO2</th>\n",
              "      <td>19</td>\n",
              "    </tr>\n",
              "    <tr>\n",
              "      <th>Metals,Waste</th>\n",
              "      <td>11</td>\n",
              "    </tr>\n",
              "    <tr>\n",
              "      <th>Refineries</th>\n",
              "      <td>10</td>\n",
              "    </tr>\n",
              "    <tr>\n",
              "      <th>Other,Suppliers of CO2,Waste</th>\n",
              "      <td>10</td>\n",
              "    </tr>\n",
              "    <tr>\n",
              "      <th>Chemicals,Industrial Gas Suppliers</th>\n",
              "      <td>7</td>\n",
              "    </tr>\n",
              "    <tr>\n",
              "      <th>Injection of CO2,Petroleum and Natural Gas Systems,Suppliers of CO2</th>\n",
              "      <td>6</td>\n",
              "    </tr>\n",
              "    <tr>\n",
              "      <th>Pulp and Paper,Suppliers of CO2,Waste</th>\n",
              "      <td>6</td>\n",
              "    </tr>\n",
              "    <tr>\n",
              "      <th>Minerals,Waste</th>\n",
              "      <td>6</td>\n",
              "    </tr>\n",
              "    <tr>\n",
              "      <th>Petroleum and Natural Gas Systems,Suppliers of CO2</th>\n",
              "      <td>5</td>\n",
              "    </tr>\n",
              "    <tr>\n",
              "      <th>Chemicals,Refineries,Suppliers of CO2</th>\n",
              "      <td>5</td>\n",
              "    </tr>\n",
              "    <tr>\n",
              "      <th>Chemicals,Waste</th>\n",
              "      <td>5</td>\n",
              "    </tr>\n",
              "    <tr>\n",
              "      <th>Other,Power Plants</th>\n",
              "      <td>5</td>\n",
              "    </tr>\n",
              "    <tr>\n",
              "      <th>Chemicals,Petroleum Product Suppliers,Refineries,Suppliers of CO2</th>\n",
              "      <td>5</td>\n",
              "    </tr>\n",
              "    <tr>\n",
              "      <th>Injection of CO2,Petroleum and Natural Gas Systems</th>\n",
              "      <td>3</td>\n",
              "    </tr>\n",
              "    <tr>\n",
              "      <th>Power Plants,Waste</th>\n",
              "      <td>3</td>\n",
              "    </tr>\n",
              "    <tr>\n",
              "      <th>Chemicals,Refineries</th>\n",
              "      <td>3</td>\n",
              "    </tr>\n",
              "    <tr>\n",
              "      <th>Petroleum Product Suppliers,Petroleum and Natural Gas Systems</th>\n",
              "      <td>3</td>\n",
              "    </tr>\n",
              "    <tr>\n",
              "      <th>Natural Gas and Natural Gas Liquids Suppliers,Power Plants</th>\n",
              "      <td>3</td>\n",
              "    </tr>\n",
              "    <tr>\n",
              "      <th>Import and Export of Equipment Containing Fluorintaed GHGs,Other</th>\n",
              "      <td>2</td>\n",
              "    </tr>\n",
              "    <tr>\n",
              "      <th>Chemicals,Petroleum Product Suppliers</th>\n",
              "      <td>1</td>\n",
              "    </tr>\n",
              "    <tr>\n",
              "      <th>Import and Export of Equipment Containing Fluorintaed GHGs,Industrial Gas Suppliers,Other</th>\n",
              "      <td>1</td>\n",
              "    </tr>\n",
              "    <tr>\n",
              "      <th>Petroleum Product Suppliers,Power Plants,Refineries</th>\n",
              "      <td>1</td>\n",
              "    </tr>\n",
              "    <tr>\n",
              "      <th>Injection of CO2,Power Plants,Suppliers of CO2</th>\n",
              "      <td>1</td>\n",
              "    </tr>\n",
              "    <tr>\n",
              "      <th>Chemicals,Petroleum Product Suppliers,Refineries,Waste</th>\n",
              "      <td>1</td>\n",
              "    </tr>\n",
              "    <tr>\n",
              "      <th>Power Plants,Chemicals,Coal-based Liquid Fuel Supply,Suppliers of CO2</th>\n",
              "      <td>1</td>\n",
              "    </tr>\n",
              "    <tr>\n",
              "      <th>Natural Gas and Natural Gas Liquids Suppliers,Other,Petroleum and Natural Gas Systems</th>\n",
              "      <td>1</td>\n",
              "    </tr>\n",
              "    <tr>\n",
              "      <th>Injection of CO2,Other,Suppliers of CO2,Waste</th>\n",
              "      <td>1</td>\n",
              "    </tr>\n",
              "    <tr>\n",
              "      <th>Chemicals,Other</th>\n",
              "      <td>1</td>\n",
              "    </tr>\n",
              "    <tr>\n",
              "      <th>Chemicals,Industrial Gas Suppliers,Minerals</th>\n",
              "      <td>1</td>\n",
              "    </tr>\n",
              "    <tr>\n",
              "      <th>Chemicals,Industrial Gas Suppliers,Waste</th>\n",
              "      <td>1</td>\n",
              "    </tr>\n",
              "    <tr>\n",
              "      <th>Chemicals,Petroleum Product Suppliers,Power Plants,Refineries</th>\n",
              "      <td>1</td>\n",
              "    </tr>\n",
              "    <tr>\n",
              "      <th>Natural Gas and Natural Gas Liquids Suppliers,Petroleum and Natural Gas Systems,Power Plants</th>\n",
              "      <td>1</td>\n",
              "    </tr>\n",
              "    <tr>\n",
              "      <th>Chemicals,Power Plants</th>\n",
              "      <td>1</td>\n",
              "    </tr>\n",
              "    <tr>\n",
              "      <th>Power Plants,Suppliers of CO2</th>\n",
              "      <td>1</td>\n",
              "    </tr>\n",
              "    <tr>\n",
              "      <th>Metals,Power Plants</th>\n",
              "      <td>1</td>\n",
              "    </tr>\n",
              "    <tr>\n",
              "      <th>Chemicals,Other,Petroleum and Natural Gas Systems,Waste</th>\n",
              "      <td>1</td>\n",
              "    </tr>\n",
              "    <tr>\n",
              "      <th>Pulp and Paper,Suppliers of CO2</th>\n",
              "      <td>1</td>\n",
              "    </tr>\n",
              "    <tr>\n",
              "      <th>Petroleum and Natural Gas Systems,Power Plants</th>\n",
              "      <td>1</td>\n",
              "    </tr>\n",
              "    <tr>\n",
              "      <th>Chemicals,Other,Petroleum Product Suppliers,Power Plants,Refineries</th>\n",
              "      <td>1</td>\n",
              "    </tr>\n",
              "  </tbody>\n",
              "</table>\n",
              "</div><br><label><b>dtype:</b> int64</label>"
            ],
            "text/plain": [
              "IndustryType\n",
              "Petroleum and Natural Gas Systems                                                               960\n",
              "Power Plants                                                                                    943\n",
              "Waste                                                                                           859\n",
              "Other                                                                                           723\n",
              "Minerals                                                                                        246\n",
              "Chemicals                                                                                       209\n",
              "Metals                                                                                          199\n",
              "Other,Waste                                                                                      86\n",
              "Pulp and Paper                                                                                   81\n",
              "Natural Gas and Natural Gas Liquids Suppliers,Petroleum and Natural Gas Systems                  65\n",
              "Pulp and Paper,Waste                                                                             57\n",
              "Petroleum Product Suppliers,Refineries                                                           37\n",
              "Chemicals,Petroleum Product Suppliers,Refineries                                                 28\n",
              "Chemicals,Suppliers of CO2                                                                       24\n",
              "Other,Suppliers of CO2                                                                           19\n",
              "Metals,Waste                                                                                     11\n",
              "Refineries                                                                                       10\n",
              "Other,Suppliers of CO2,Waste                                                                     10\n",
              "Chemicals,Industrial Gas Suppliers                                                                7\n",
              "Injection of CO2,Petroleum and Natural Gas Systems,Suppliers of CO2                               6\n",
              "Pulp and Paper,Suppliers of CO2,Waste                                                             6\n",
              "Minerals,Waste                                                                                    6\n",
              "Petroleum and Natural Gas Systems,Suppliers of CO2                                                5\n",
              "Chemicals,Refineries,Suppliers of CO2                                                             5\n",
              "Chemicals,Waste                                                                                   5\n",
              "Other,Power Plants                                                                                5\n",
              "Chemicals,Petroleum Product Suppliers,Refineries,Suppliers of CO2                                 5\n",
              "Injection of CO2,Petroleum and Natural Gas Systems                                                3\n",
              "Power Plants,Waste                                                                                3\n",
              "Chemicals,Refineries                                                                              3\n",
              "Petroleum Product Suppliers,Petroleum and Natural Gas Systems                                     3\n",
              "Natural Gas and Natural Gas Liquids Suppliers,Power Plants                                        3\n",
              "Import and Export of Equipment Containing Fluorintaed GHGs,Other                                  2\n",
              "Chemicals,Petroleum Product Suppliers                                                             1\n",
              "Import and Export of Equipment Containing Fluorintaed GHGs,Industrial Gas Suppliers,Other         1\n",
              "Petroleum Product Suppliers,Power Plants,Refineries                                               1\n",
              "Injection of CO2,Power Plants,Suppliers of CO2                                                    1\n",
              "Chemicals,Petroleum Product Suppliers,Refineries,Waste                                            1\n",
              "Power Plants,Chemicals,Coal-based Liquid Fuel Supply,Suppliers of CO2                             1\n",
              "Natural Gas and Natural Gas Liquids Suppliers,Other,Petroleum and Natural Gas Systems             1\n",
              "Injection of CO2,Other,Suppliers of CO2,Waste                                                     1\n",
              "Chemicals,Other                                                                                   1\n",
              "Chemicals,Industrial Gas Suppliers,Minerals                                                       1\n",
              "Chemicals,Industrial Gas Suppliers,Waste                                                          1\n",
              "Chemicals,Petroleum Product Suppliers,Power Plants,Refineries                                     1\n",
              "Natural Gas and Natural Gas Liquids Suppliers,Petroleum and Natural Gas Systems,Power Plants      1\n",
              "Chemicals,Power Plants                                                                            1\n",
              "Power Plants,Suppliers of CO2                                                                     1\n",
              "Metals,Power Plants                                                                               1\n",
              "Chemicals,Other,Petroleum and Natural Gas Systems,Waste                                           1\n",
              "Pulp and Paper,Suppliers of CO2                                                                   1\n",
              "Petroleum and Natural Gas Systems,Power Plants                                                    1\n",
              "Chemicals,Other,Petroleum Product Suppliers,Power Plants,Refineries                               1\n",
              "Name: count, dtype: int64"
            ]
          },
          "execution_count": 7,
          "metadata": {},
          "output_type": "execute_result"
        }
      ],
      "source": [
        "train['IndustryType'].value_counts()"
      ]
    },
    {
      "cell_type": "markdown",
      "metadata": {
        "id": "LUfFmx1e5zSo"
      },
      "source": [
        "思いのほか、多くの要素がありました。<br>\n",
        "今回は実施しませんが、これらのカテゴリを数値化する手法としてエンコーディングというものがあります。<br>"
      ]
    },
    {
      "cell_type": "markdown",
      "metadata": {
        "id": "rjCYh-5M643l"
      },
      "source": [
        "<hr>\n",
        "\n",
        "`参考`<br>\n",
        "**エンコーディングとは何か**\n",
        "\n",
        "エンコーディングとは、AIモデルが理解できるように、文字やカテゴリなどの非数値データを数値データに変換することです。これにより、AIモデルはデータを適切に処理し、学習することができます。<br>\n",
        "以下は代表的なエンコーディング手法である「ラベルエンコーディング」と「ワンホットエンコーディング」を整理した表です。<br>\n",
        "<br>\n",
        "\n",
        "| 項目 | **ラベルエンコーディング** | **ワンホットエンコーディング** |\n",
        "| --- | --- | --- |\n",
        "| **手法** | カテゴリを整数値に変換する。<br>例:「赤」=0、「青」=1、「緑」=2 | 各カテゴリごとに新しい二進数の特徴量を作成する。<br>例:「赤」=[1,0,0]、「青」=[0,1,0]、「緑」=[0,0,1] |\n",
        "| **メリット** | - シンプルで実装が容易<br> | - カテゴリ間の関係性を持たない<br>- モデルがカテゴリを平等に扱う |\n",
        "| **デメリット** | - カテゴリに順位がないのに数値が割り当てられるため、モデルが誤解する可能性がある | - データの次元数が増加し、高次元になると計算量が増える |\n",
        "| **選択基準** | - カテゴリに明確な順位や大小関係がある場合 | - カテゴリに順位がない場合<br>- カテゴリ数が多すぎない場合 |\n",
        "\n",
        "\n",
        "<hr>"
      ]
    },
    {
      "cell_type": "markdown",
      "metadata": {
        "id": "zZo5MpmIQHg8"
      },
      "source": [
        "## 2-2.数値型（int, float）の処理"
      ]
    },
    {
      "cell_type": "markdown",
      "metadata": {
        "id": "u3e-IpCv9zow"
      },
      "source": [
        "続いて数値型の前処理です。<br>\n",
        "まずは可視化して分布を確認します。"
      ]
    },
    {
      "cell_type": "code",
      "execution_count": 8,
      "metadata": {
        "colab": {
          "base_uri": "https://localhost:8080/",
          "height": 1000
        },
        "id": "ScvVG4giQHg9",
        "outputId": "f606b78b-4a0a-44e4-d9dd-a0e29795b255"
      },
      "outputs": [
        {
          "data": {
            "image/png": "[encoded data removed]",
            "text/plain": [
              "<Figure size 1200x300 with 1 Axes>"
            ]
          },
          "metadata": {},
          "output_type": "display_data"
        },
        {
          "name": "stdout",
          "output_type": "stream",
          "text": [
            "\n"
          ]
        },
        {
          "data": {
            "image/png": "[encoded data removed]",
            "text/plain": [
              "<Figure size 1200x300 with 1 Axes>"
            ]
          },
          "metadata": {},
          "output_type": "display_data"
        },
        {
          "name": "stdout",
          "output_type": "stream",
          "text": [
            "\n"
          ]
        },
        {
          "data": {
            "image/png": "[encoded data removed]",
            "text/plain": [
              "<Figure size 1200x300 with 1 Axes>"
            ]
          },
          "metadata": {},
          "output_type": "display_data"
        },
        {
          "name": "stdout",
          "output_type": "stream",
          "text": [
            "\n"
          ]
        },
        {
          "data": {
            "image/png": "[encoded data removed]",
            "text/plain": [
              "<Figure size 1200x300 with 1 Axes>"
            ]
          },
          "metadata": {},
          "output_type": "display_data"
        },
        {
          "name": "stdout",
          "output_type": "stream",
          "text": [
            "\n"
          ]
        },
        {
          "data": {
            "image/png": "[encoded data removed]",
            "text/plain": [
              "<Figure size 1200x300 with 1 Axes>"
            ]
          },
          "metadata": {},
          "output_type": "display_data"
        },
        {
          "name": "stdout",
          "output_type": "stream",
          "text": [
            "\n"
          ]
        },
        {
          "data": {
            "image/png": "[encoded data removed]",
            "text/plain": [
              "<Figure size 1200x300 with 1 Axes>"
            ]
          },
          "metadata": {},
          "output_type": "display_data"
        },
        {
          "name": "stdout",
          "output_type": "stream",
          "text": [
            "\n"
          ]
        },
        {
          "data": {
            "image/png": "[encoded data removed]",
            "text/plain": [
              "<Figure size 1200x300 with 1 Axes>"
            ]
          },
          "metadata": {},
          "output_type": "display_data"
        },
        {
          "name": "stdout",
          "output_type": "stream",
          "text": [
            "\n"
          ]
        },
        {
          "data": {
            "image/png": "[encoded data removed]",
            "text/plain": [
              "<Figure size 1200x300 with 1 Axes>"
            ]
          },
          "metadata": {},
          "output_type": "display_data"
        },
        {
          "name": "stdout",
          "output_type": "stream",
          "text": [
            "\n"
          ]
        }
      ],
      "source": [
        "numerical_features = [\n",
        "    'TRI_Air_Emissions_10_in_lbs', 'TRI_Air_Emissions_11_in_lbs', 'TRI_Air_Emissions_12_in_lbs', 'TRI_Air_Emissions_13_in_lbs',\n",
        "    'GHG_Direct_Emissions_10_in_metric_tons', 'GHG_Direct_Emissions_11_in_metric_tons', 'GHG_Direct_Emissions_12_in_metric_tons', 'GHG_Direct_Emissions_13_in_metric_tons',\n",
        "    ]\n",
        "\n",
        "num_bins = 100\n",
        "min_value = train[numerical_features].min().min()\n",
        "max_value = train[numerical_features].max().max()\n",
        "bins = np.linspace(min_value, max_value, num_bins)\n",
        "\n",
        "for col in numerical_features:\n",
        "    plt.figure(figsize=(12, 3))\n",
        "    sns.histplot(train[col], bins=bins, kde=True)\n",
        "    plt.title(f'{col}の分布')\n",
        "    plt.xlabel(col)\n",
        "    plt.ylabel('頻度')\n",
        "    plt.show()\n",
        "    print()"
      ]
    },
    {
      "cell_type": "markdown",
      "metadata": {
        "id": "xAkl1nvb-_sl"
      },
      "source": [
        "すべての数値データが小さな値に偏っており、各特徴量の数値の範囲に多少差があります。<br>\n",
        "このような偏った分布では、平均値が大きくなりやすいため、欠損値は**中央値**で補います。<br>"
      ]
    },
    {
      "cell_type": "code",
      "execution_count": 9,
      "metadata": {
        "id": "zU1RmRWdBpSs"
      },
      "outputs": [],
      "source": [
        "# 欠損値の補完\n",
        "for col in numerical_features:\n",
        "    train[col].fillna(train[col].median(), inplace=True)\n",
        "    test[col].fillna(train[col].median(), inplace=True)"
      ]
    },
    {
      "cell_type": "markdown",
      "metadata": {
        "id": "uRYofjc7QHg9"
      },
      "source": [
        "以上で前処理は終了です。<br>\n",
        "今回は数値データのみを利用してAIモデルを構築します。"
      ]
    },
    {
      "cell_type": "markdown",
      "metadata": {
        "id": "Kj4EGyfoxuwM"
      },
      "source": [
        "# 3. 予測モデルの学習・検証\n"
      ]
    },
    {
      "cell_type": "markdown",
      "metadata": {
        "id": "cs1UcOZn2jOZ"
      },
      "source": [
        "本章ではモデルの学習と検証を行います。\n",
        "\n",
        "そこでまず、次の操作を行います。\n",
        "1. 学習用データセットに含まれる特徴量と目的変数の分離\n",
        "2. 学習用データセットを学習用と検証用のデータセットへ分割"
      ]
    },
    {
      "cell_type": "code",
      "execution_count": 10,
      "metadata": {
        "colab": {
          "base_uri": "https://localhost:8080/"
        },
        "id": "JNYxq1HXQHg9",
        "outputId": "4f9545c5-dc8c-40c3-92f2-8a0e43070d41"
      },
      "outputs": [
        {
          "name": "stdout",
          "output_type": "stream",
          "text": [
            "X_train: (3724, 8), X_valid: (931, 8)\n",
            "y_train: (3724,), y_valid: (931,)\n"
          ]
        }
      ],
      "source": [
        "# 訓練用データセットからターゲットを分離する\n",
        "X = train[numerical_features]\n",
        "y = train['GHG_Direct_Emissions_14_in_metric_tons']\n",
        "\n",
        "# 投稿のためのテストデータも同様の処理を行う\n",
        "test_X = test[numerical_features]\n",
        "\n",
        "# 訓練用データセットを訓練用と検証用に分割する\n",
        "X_train, X_valid, y_train, y_valid = train_test_split(X, y, test_size=0.2, random_state=42)\n",
        "\n",
        "# 結果の確認（データフレームの形状）\n",
        "print(f\"X_train: {X_train.shape}, X_valid: {X_valid.shape}\")\n",
        "print(f\"y_train: {y_train.shape}, y_valid: {y_valid.shape}\")"
      ]
    },
    {
      "cell_type": "markdown",
      "metadata": {
        "id": "7QMdULs2QHg9"
      },
      "source": [
        "## 3-1. 今回使用する予測モデルの紹介"
      ]
    },
    {
      "cell_type": "markdown",
      "metadata": {
        "id": "FrQP47tuGqgD"
      },
      "source": [
        "次に利用する予測モデルを用意します。表データ用の予測モデルを構築する手法は数多く提案されていますが、本チュートリアルでは、その中でも最も有名で強力な手法の一つである**LightGBM**を利用します。<br>\n",
        "かいつまんだ説明にはなりますが、この手法では以下の工夫により、高速に予測能力の高いモデルの構築を実現しています。\n",
        "\n",
        "1. 内部に持つ複数の予測器のアンサンブルによる精度の高い予測（キーワード：勾配ブースティング法, アンサンブル学習）\n",
        "2. 情報の少ない列をまとめて扱うことによる高速な訓練（キーワード：Exclusive Feature Bundling）\n",
        "\n",
        "次節ではLightGBMを使った学習を行います。"
      ]
    },
    {
      "cell_type": "markdown",
      "metadata": {
        "id": "3HXOTS6xQHg9"
      },
      "source": [
        "## 3-2. 学習"
      ]
    },
    {
      "cell_type": "code",
      "execution_count": 11,
      "metadata": {
        "id": "KCoVk3-HQHg9"
      },
      "outputs": [
        {
          "name": "stdout",
          "output_type": "stream",
          "text": [
            "[1]\tvalid_0's rmse: 478293\n",
            "[2]\tvalid_0's rmse: 452501\n",
            "[3]\tvalid_0's rmse: 432917\n",
            "[4]\tvalid_0's rmse: 415230\n",
            "[5]\tvalid_0's rmse: 400294\n",
            "[6]\tvalid_0's rmse: 387406\n",
            "[7]\tvalid_0's rmse: 377180\n",
            "[8]\tvalid_0's rmse: 367205\n",
            "[9]\tvalid_0's rmse: 360144\n",
            "[10]\tvalid_0's rmse: 354081\n",
            "[11]\tvalid_0's rmse: 348274\n",
            "[12]\tvalid_0's rmse: 344170\n",
            "[13]\tvalid_0's rmse: 339523\n",
            "[14]\tvalid_0's rmse: 335059\n",
            "[15]\tvalid_0's rmse: 331541\n",
            "[16]\tvalid_0's rmse: 330277\n",
            "[17]\tvalid_0's rmse: 328743\n",
            "[18]\tvalid_0's rmse: 326607\n",
            "[19]\tvalid_0's rmse: 323889\n",
            "[20]\tvalid_0's rmse: 323430\n",
            "[21]\tvalid_0's rmse: 322450\n",
            "[22]\tvalid_0's rmse: 322044\n",
            "[23]\tvalid_0's rmse: 321812\n",
            "[24]\tvalid_0's rmse: 320886\n",
            "[25]\tvalid_0's rmse: 320412\n",
            "[26]\tvalid_0's rmse: 319742\n",
            "[27]\tvalid_0's rmse: 319458\n",
            "[28]\tvalid_0's rmse: 319827\n",
            "[29]\tvalid_0's rmse: 319071\n",
            "[30]\tvalid_0's rmse: 319051\n",
            "[31]\tvalid_0's rmse: 318691\n",
            "[32]\tvalid_0's rmse: 319349\n",
            "[33]\tvalid_0's rmse: 319643\n",
            "[34]\tvalid_0's rmse: 319818\n",
            "[35]\tvalid_0's rmse: 319618\n",
            "[36]\tvalid_0's rmse: 320082\n",
            "[37]\tvalid_0's rmse: 319675\n",
            "[38]\tvalid_0's rmse: 319759\n",
            "[39]\tvalid_0's rmse: 319905\n",
            "[40]\tvalid_0's rmse: 320407\n",
            "[41]\tvalid_0's rmse: 320576\n",
            "[42]\tvalid_0's rmse: 320994\n",
            "[43]\tvalid_0's rmse: 321470\n",
            "[44]\tvalid_0's rmse: 321908\n",
            "[45]\tvalid_0's rmse: 321616\n",
            "[46]\tvalid_0's rmse: 321465\n",
            "[47]\tvalid_0's rmse: 321265\n",
            "[48]\tvalid_0's rmse: 321310\n",
            "[49]\tvalid_0's rmse: 321264\n",
            "[50]\tvalid_0's rmse: 321392\n",
            "[51]\tvalid_0's rmse: 321505\n",
            "[52]\tvalid_0's rmse: 321756\n",
            "[53]\tvalid_0's rmse: 321886\n",
            "[54]\tvalid_0's rmse: 322573\n",
            "[55]\tvalid_0's rmse: 322707\n",
            "[56]\tvalid_0's rmse: 322641\n",
            "[57]\tvalid_0's rmse: 323212\n",
            "[58]\tvalid_0's rmse: 322887\n",
            "[59]\tvalid_0's rmse: 323167\n",
            "[60]\tvalid_0's rmse: 323303\n",
            "[61]\tvalid_0's rmse: 323423\n",
            "[62]\tvalid_0's rmse: 323771\n",
            "[63]\tvalid_0's rmse: 323637\n",
            "[64]\tvalid_0's rmse: 323929\n",
            "[65]\tvalid_0's rmse: 324321\n",
            "[66]\tvalid_0's rmse: 324480\n",
            "[67]\tvalid_0's rmse: 324919\n",
            "[68]\tvalid_0's rmse: 324859\n",
            "[69]\tvalid_0's rmse: 325474\n",
            "[70]\tvalid_0's rmse: 325816\n",
            "[71]\tvalid_0's rmse: 326342\n",
            "[72]\tvalid_0's rmse: 326101\n",
            "[73]\tvalid_0's rmse: 326245\n",
            "[74]\tvalid_0's rmse: 326344\n",
            "[75]\tvalid_0's rmse: 326849\n",
            "[76]\tvalid_0's rmse: 327133\n",
            "[77]\tvalid_0's rmse: 327593\n",
            "[78]\tvalid_0's rmse: 328132\n",
            "[79]\tvalid_0's rmse: 328380\n",
            "[80]\tvalid_0's rmse: 328723\n",
            "[81]\tvalid_0's rmse: 328948\n",
            "[82]\tvalid_0's rmse: 329028\n",
            "[83]\tvalid_0's rmse: 329540\n",
            "[84]\tvalid_0's rmse: 329724\n",
            "[85]\tvalid_0's rmse: 330026\n",
            "[86]\tvalid_0's rmse: 330349\n",
            "[87]\tvalid_0's rmse: 330020\n",
            "[88]\tvalid_0's rmse: 330231\n",
            "[89]\tvalid_0's rmse: 330508\n",
            "[90]\tvalid_0's rmse: 330406\n",
            "[91]\tvalid_0's rmse: 330379\n",
            "[92]\tvalid_0's rmse: 330236\n",
            "[93]\tvalid_0's rmse: 329825\n",
            "[94]\tvalid_0's rmse: 329967\n",
            "[95]\tvalid_0's rmse: 329897\n",
            "[96]\tvalid_0's rmse: 329907\n",
            "[97]\tvalid_0's rmse: 330143\n",
            "[98]\tvalid_0's rmse: 330165\n",
            "[99]\tvalid_0's rmse: 330349\n",
            "[100]\tvalid_0's rmse: 330718\n"
          ]
        }
      ],
      "source": [
        "# LightGBM用のデータセットに変換\n",
        "train_data = lgb.Dataset(X_train, label=y_train)\n",
        "valid_data = lgb.Dataset(X_valid, label=y_valid, reference=train_data)\n",
        "\n",
        "# LightGBMのパラメータ設定\n",
        "params = {\n",
        "    'objective': 'regression',  # 回帰タスク\n",
        "    'metric': 'rmse',  # RMSEで評価\n",
        "    'boosting_type': 'gbdt',  # 勾配ブースティング木\n",
        "    'learning_rate': 0.1,  # 学習率\n",
        "    'verbose': -1,  # 詳細な出力を抑制\n",
        "    'random_state':42 # 乱数の固定\n",
        "}\n",
        "\n",
        "# モデルの訓練\n",
        "model = lgb.train(\n",
        "    params,\n",
        "    train_data,\n",
        "    valid_sets=[valid_data],\n",
        ")"
      ]
    },
    {
      "cell_type": "markdown",
      "metadata": {
        "id": "yC9SxTt46VRs"
      },
      "source": [
        "これでモデルの学習が完了しました。\n",
        "\n",
        "あらかじめ分けておいた検証用データで訓練済みモデルの予測性能を確認しましょう。\n",
        "\n",
        "本コンペティションで使用する評価指標はRMSLEですのでscikit-learnからmean_squared_log_errorを呼び出して評価します。"
      ]
    },
    {
      "cell_type": "code",
      "execution_count": 12,
      "metadata": {
        "colab": {
          "base_uri": "https://localhost:8080/"
        },
        "id": "HU-pCJd36O1N",
        "outputId": "1a0999c7-7c23-4b2b-fc6f-282b62d1381c"
      },
      "outputs": [
        {
          "name": "stdout",
          "output_type": "stream",
          "text": [
            "RMSLE: 1.0106\n"
          ]
        }
      ],
      "source": [
        "# 検証用データセットに対する予測\n",
        "y_pred = model.predict(X_valid)\n",
        "# 負の数値を0に変換\n",
        "y_pred = [0 if val <= 0 else val for val in y_pred]\n",
        "# RMSLEで評価\n",
        "from sklearn.metrics import mean_squared_log_error\n",
        "rmsle_score = mean_squared_log_error(y_valid, y_pred, squared=False)\n",
        "print(f\"RMSLE: {rmsle_score:.4f}\")"
      ]
    },
    {
      "cell_type": "markdown",
      "metadata": {
        "id": "wIIH04RkQHhB"
      },
      "source": [
        "評価結果（モデルの精度）が出力されました。<br>\n",
        "初めて参加される方は、是非この値を超えるようなモデルの作成を目指してください！"
      ]
    },
    {
      "cell_type": "markdown",
      "metadata": {
        "id": "2eIhc1WMAK6k"
      },
      "source": [
        "# 4. 予測・結果の投稿\n",
        "最後に学習したモデルをテストデータに対して予測をし、投稿ファイルを作成します。"
      ]
    },
    {
      "cell_type": "code",
      "execution_count": 13,
      "metadata": {
        "colab": {
          "base_uri": "https://localhost:8080/"
        },
        "id": "jqVnE9Ix6ay3",
        "outputId": "17d33994-03b6-484a-94a0-bcffa7e1cfd8"
      },
      "outputs": [
        {
          "data": {
            "text/plain": [
              "array([ 58161.9139442 , 398883.2977091 ,  47403.62892573, ...,\n",
              "       210242.59604802, 286929.71415799, 838362.78518116])"
            ]
          },
          "execution_count": 13,
          "metadata": {},
          "output_type": "execute_result"
        }
      ],
      "source": [
        "test_pred = model.predict(test_X)\n",
        "test_pred"
      ]
    },
    {
      "cell_type": "markdown",
      "metadata": {
        "id": "e2SSZoGqLeR_"
      },
      "source": [
        "テストデータの予測ができました。<br>\n",
        "見本のsample_submission.csvを用いて投稿ファイルを作成しましょう。"
      ]
    },
    {
      "cell_type": "code",
      "execution_count": 15,
      "metadata": {
        "id": "i0_rKkVGAfyu"
      },
      "outputs": [],
      "source": [
        "# 投稿ファイル作成\n",
        "submit = pd.read_csv(data_dir / sub_file, header=None)\n",
        "submit[1] = test_pred\n",
        "submit.to_csv('../Sub/tutorial.csv', header=None, index=False)"
      ]
    },
    {
      "cell_type": "code",
      "execution_count": 18,
      "metadata": {
        "colab": {
          "base_uri": "https://localhost:8080/",
          "height": 206
        },
        "id": "bWXcA6qXLuBm",
        "outputId": "0837cd51-a6e0-47f5-88c4-88fdb0feb7f8"
      },
      "outputs": [
        {
          "data": {
            "text/html": [
              "<div>\n",
              "<style scoped>\n",
              "    .dataframe tbody tr th:only-of-type {\n",
              "        vertical-align: middle;\n",
              "    }\n",
              "\n",
              "    .dataframe tbody tr th {\n",
              "        vertical-align: top;\n",
              "    }\n",
              "\n",
              "    .dataframe thead th {\n",
              "        text-align: right;\n",
              "    }\n",
              "</style>\n",
              "<table border=\"1\" class=\"dataframe\">\n",
              "  <thead>\n",
              "    <tr style=\"text-align: right;\">\n",
              "      <th></th>\n",
              "      <th>0</th>\n",
              "      <th>1</th>\n",
              "    </tr>\n",
              "  </thead>\n",
              "  <tbody>\n",
              "    <tr>\n",
              "      <th>0</th>\n",
              "      <td>4655</td>\n",
              "      <td>58161.913944</td>\n",
              "    </tr>\n",
              "    <tr>\n",
              "      <th>1</th>\n",
              "      <td>4656</td>\n",
              "      <td>398883.297709</td>\n",
              "    </tr>\n",
              "    <tr>\n",
              "      <th>2</th>\n",
              "      <td>4657</td>\n",
              "      <td>47403.628926</td>\n",
              "    </tr>\n",
              "    <tr>\n",
              "      <th>3</th>\n",
              "      <td>4658</td>\n",
              "      <td>13513.476993</td>\n",
              "    </tr>\n",
              "    <tr>\n",
              "      <th>4</th>\n",
              "      <td>4659</td>\n",
              "      <td>79085.397812</td>\n",
              "    </tr>\n",
              "  </tbody>\n",
              "</table>\n",
              "</div>"
            ],
            "text/plain": [
              "      0              1\n",
              "0  4655   58161.913944\n",
              "1  4656  398883.297709\n",
              "2  4657   47403.628926\n",
              "3  4658   13513.476993\n",
              "4  4659   79085.397812"
            ]
          },
          "execution_count": 18,
          "metadata": {},
          "output_type": "execute_result"
        }
      ],
      "source": [
        "# 投稿ファイルの中身を確認\n",
        "submit.head()"
      ]
    },
    {
      "cell_type": "markdown",
      "metadata": {
        "id": "lbES5p4aLzmW"
      },
      "source": [
        "これで本チュートリアルは終了です。<br>\n",
        "早速作成したsubmission_tutorial.csvを投稿してみましょう。<br>\n",
        "コンペサイトの投稿ボタンから投稿可能です。"
      ]
    },
    {
      "cell_type": "markdown",
      "metadata": {
        "id": "UxlYr7j0L7KX"
      },
      "source": [
        "# 5. 精度改善のヒント\n",
        "<p>投稿が完了しましたが、コンペティションはこれで終わりではありません。次に精度を改善する必要があります。<br>\n",
        "ぜひチャレンジしてみてください。\n",
        "\n",
        "今後の改善点の例：\n",
        "- 他の特徴量から、新たな特徴量を作成する\n",
        "- 欠損値を別の方法で埋める\n",
        "- LightGBM以外のアルゴリズムや、アンサンブル（複数のモデルの予測結果の平均などを取る処理）を行う"
      ]
    }
  ],
  "metadata": {
    "colab": {
      "provenance": []
    },
    "kernelspec": {
      "display_name": "Python 3",
      "language": "python",
      "name": "python3"
    },
    "language_info": {
      "codemirror_mode": {
        "name": "ipython",
        "version": 3
      },
      "file_extension": ".py",
      "mimetype": "text/x-python",
      "name": "python",
      "nbconvert_exporter": "python",
      "pygments_lexer": "ipython3",
      "version": "3.10.9"
    }
  },
  "nbformat": 4,
  "nbformat_minor": 0
}
